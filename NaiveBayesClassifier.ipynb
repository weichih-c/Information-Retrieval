{
 "cells": [
  {
   "cell_type": "code",
   "execution_count": null,
   "metadata": {
    "collapsed": true
   },
   "outputs": [],
   "source": []
  },
  {
   "cell_type": "code",
   "execution_count": null,
   "metadata": {
    "collapsed": true
   },
   "outputs": [],
   "source": [
    "class NaiveBayesClassifier:\n",
    "    conditionProb_dict = None\n",
    "    priorProb_dict = None\n",
    "    classScoreList = None\n",
    "    \n",
    "    def __init__ (self):\n",
    "        self.conditionProb_dict = dict()\n",
    "        self.priorProb_dict = dict()\n",
    "        self.classScoreList = list()\n",
    "    \n",
    "    def getAllClass(self):\n",
    "        return self.priorProb_dict.keys()\n",
    "    \n",
    "    def updateClassPriorProbability(self, classID, priorProb):\n",
    "        self.priorProb_dict[classID] = priorProb\n",
    "        \n",
    "    def getClassPriorProbability(self, classID):\n",
    "        return self.priorProb_dict[classID]\n",
    "        \n",
    "    def updateClassConditionProbability(self, classID, conditionProbDict):\n",
    "        self.conditionProb_dict[classID] = conditionProbDict\n",
    "        \n",
    "    def getClassConditionProbability(self, classID):\n",
    "        return self.conditionProb_dict[classID]"
   ]
  }
 ],
 "metadata": {
  "kernelspec": {
   "display_name": "Python 3",
   "language": "python",
   "name": "python3"
  },
  "language_info": {
   "codemirror_mode": {
    "name": "ipython",
    "version": 3
   },
   "file_extension": ".py",
   "mimetype": "text/x-python",
   "name": "python",
   "nbconvert_exporter": "python",
   "pygments_lexer": "ipython3",
   "version": "3.6.2"
  }
 },
 "nbformat": 4,
 "nbformat_minor": 2
}
