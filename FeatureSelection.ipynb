{
 "cells": [
  {
   "cell_type": "code",
   "execution_count": 1,
   "metadata": {
    "collapsed": true
   },
   "outputs": [],
   "source": [
    "def getChiSquare(termTable):\n",
    "    onTopicPresent = termTable[0][0]\n",
    "    onTopicAbsent = termTable[0][1]\n",
    "    offTopicPresent = termTable[1][0]\n",
    "    offTopicAbsent = termTable[1][1]\n",
    "    totalFreq = onTopicPresent + onTopicAbsent + offTopicPresent + offTopicAbsent # sum of whole table\n",
    "    \n",
    "    probPresent = (onTopicPresent + offTopicPresent) / totalFreq\n",
    "    probAbsent = (onTopicAbsent + offTopicAbsent) / totalFreq\n",
    "    probOnTopic = (onTopicPresent + onTopicAbsent) / totalFreq\n",
    "    probOffTopic = (offTopicPresent + offTopicAbsent) / totalFreq\n",
    "    \n",
    "    presentOrNot_Arr = [probPresent, probAbsent]\n",
    "    ontopicOrNot_Arr = [probOnTopic, probOffTopic]\n",
    "    \n",
    "    positiveIndicator = 0\n",
    "    negativeIndicator = 0\n",
    "    for topicIdx in range(len(ontopicOrNot_Arr)):\n",
    "        for existIdx in range(len(presentOrNot_Arr)):\n",
    "            \n",
    "            expectedVal = totalFreq * presentOrNot_Arr[existIdx] * ontopicOrNot_Arr[topicIdx]\n",
    "            observedVal = termTable[topicIdx][existIdx]\n",
    "            if (topicIdx==0 and existIdx==0) or (topicIdx==1 and existIdx==1):\n",
    "                positiveIndicator += (observedVal - expectedVal)**2 / expectedVal\n",
    "            else:\n",
    "                negativeIndicator += (observedVal - expectedVal)**2 / expectedVal\n",
    "    \n",
    "    result = positiveIndicator + negativeIndicator\n",
    "    indicator = None\n",
    "    \n",
    "    if positiveIndicator >= negativeIndicator:\n",
    "        indicator = True\n",
    "    else:\n",
    "        indicator = False\n",
    "            \n",
    "    return result, indicator"
   ]
  },
  {
   "cell_type": "code",
   "execution_count": 3,
   "metadata": {},
   "outputs": [
    {
     "name": "stdout",
     "output_type": "stream",
     "text": [
      "(4.0, True)\n"
     ]
    }
   ],
   "source": [
    "# test = [[49,141],[27652,774106]]\n",
    "# # test = [[3,26],[17,4]]\n",
    "# test  = [[3,0],[0,1]]\n",
    "# chisquareVal = getChiSquare(test)\n",
    "# print(chisquareVal)"
   ]
  }
 ],
 "metadata": {
  "kernelspec": {
   "display_name": "Python 3",
   "language": "python",
   "name": "python3"
  },
  "language_info": {
   "codemirror_mode": {
    "name": "ipython",
    "version": 3
   },
   "file_extension": ".py",
   "mimetype": "text/x-python",
   "name": "python",
   "nbconvert_exporter": "python",
   "pygments_lexer": "ipython3",
   "version": "3.6.2"
  }
 },
 "nbformat": 4,
 "nbformat_minor": 2
}
