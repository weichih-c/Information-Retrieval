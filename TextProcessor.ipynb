{
 "cells": [
  {
   "cell_type": "markdown",
   "metadata": {},
   "source": [
    "## Process the document and get Terms\n",
    "#### Usage: call the getTermsDict() function. It will return a dict {term1: TF (TermFrequency), term2: TF2, ...}\n",
    "\n",
    "#### getTermsDict() will do 1. tokenization, 2. lowercasing everything, 3. remove stopwords, and 4. stemming"
   ]
  },
  {
   "cell_type": "code",
   "execution_count": null,
   "metadata": {
    "collapsed": true
   },
   "outputs": [],
   "source": [
    "stopwordFile = \"stopword_list.txt\" # stopword dictionary"
   ]
  },
  {
   "cell_type": "code",
   "execution_count": null,
   "metadata": {
    "collapsed": true
   },
   "outputs": [],
   "source": [
    "# tokenize by whitespace\n",
    "def doTokenize(context):\n",
    "    result = list()\n",
    "    \n",
    "    context = context.replace('\\n', '') # remove newline character\n",
    "    context = context.replace(',', '') # remove comma\n",
    "    context = context.replace('?', '') # remove question mark\n",
    "    context = context.replace('\\\"','')\n",
    "    context = context.replace('\\'','')\n",
    "    context = context.replace('%','')\n",
    "    context = context.replace('`','')\n",
    "    context = context.replace('--','')\n",
    "    context = context.replace('(','')\n",
    "    context = context.replace(')','')\n",
    "    context = context.replace('\\\\', '')\n",
    "\n",
    "    tokens = context.split(' ') # split by whitespace\n",
    "    tokens = [token.split('.')[0] for token in tokens] # remove dot of vocabluary (e.g., \"world.\")\n",
    "    \n",
    "    \n",
    "    # check empty elements\n",
    "    for token in tokens:\n",
    "        if token:\n",
    "            result.append(token)\n",
    "            \n",
    "    return result"
   ]
  },
  {
   "cell_type": "code",
   "execution_count": null,
   "metadata": {
    "collapsed": true
   },
   "outputs": [],
   "source": [
    "def doLowercase(token):\n",
    "    return token.lower()"
   ]
  },
  {
   "cell_type": "code",
   "execution_count": null,
   "metadata": {
    "collapsed": true
   },
   "outputs": [],
   "source": [
    "# Check the given token is stopword or not\n",
    "def isStopword(token, stopword_set):\n",
    "    return (token in stopword_set)"
   ]
  },
  {
   "cell_type": "code",
   "execution_count": null,
   "metadata": {
    "collapsed": true
   },
   "outputs": [],
   "source": [
    "# use porter's algorithm to do stemming\n",
    "%run PorterStemmer.ipynb\n",
    "def doStemming(token):\n",
    "    return PorterStemmer().stem(token, 0, len(token)-1 )"
   ]
  },
  {
   "cell_type": "code",
   "execution_count": null,
   "metadata": {
    "collapsed": true
   },
   "outputs": [],
   "source": [
    "# save the result as a txt file\n",
    "def saveResult(tokenSet, outputFileName):\n",
    "    \n",
    "    with open(outputDirPath + outputFileName, \"w\") as opf:\n",
    "        for element in tokenSet:\n",
    "            opf.write(element+\"\\n\")\n",
    "        opf.close()"
   ]
  },
  {
   "cell_type": "code",
   "execution_count": null,
   "metadata": {
    "collapsed": true
   },
   "outputs": [],
   "source": [
    "def getStopwordList(userDefinedSWFile=None):\n",
    "    if userDefinedSWFile is None:\n",
    "        with open(stopwordFile, \"r\") as f:\n",
    "            stopword_list = f.readlines()\n",
    "            f.close()\n",
    "    else:\n",
    "        with open(userDefinedSWFile, \"r\") as f:\n",
    "            stopword_list = f.readlines()\n",
    "            f.close()\n",
    "    stopword_set = {x.strip() for x in stopword_list} # ready the stopword list\n",
    "    return stopword_set"
   ]
  },
  {
   "cell_type": "code",
   "execution_count": null,
   "metadata": {
    "collapsed": true
   },
   "outputs": [],
   "source": [
    "# check if term is number\n",
    "def is_number(string):\n",
    "    try:\n",
    "        float(string)\n",
    "        return True\n",
    "    except ValueError:\n",
    "        return False"
   ]
  },
  {
   "cell_type": "code",
   "execution_count": null,
   "metadata": {
    "collapsed": true
   },
   "outputs": [],
   "source": [
    "def getTermsDict(documentPath):\n",
    "    with open(documentPath, \"r\") as f:\n",
    "        document = f.read()\n",
    "        f.close()\n",
    "    \n",
    "    stopword_set = getStopwordList() # get stopword set\n",
    "    \n",
    "    tokenDict = dict()\n",
    "    tokens = doTokenize(document)\n",
    "    for token in tokens:\n",
    "        token = doLowercase(token)  # Doing lowercasing\n",
    "    \n",
    "        if (not isStopword(token, stopword_set)) and (not is_number(str(token))):  # stopword removing\n",
    "            token = doStemming(token) # Doing stemming\n",
    "\n",
    "            # count the tf of given document\n",
    "            if token in tokenDict:\n",
    "                tokenDict[token] += 1\n",
    "            else:\n",
    "                tokenDict[token] = 1\n",
    "\n",
    "    return tokenDict"
   ]
  }
 ],
 "metadata": {
  "kernelspec": {
   "display_name": "Python 3",
   "language": "python",
   "name": "python3"
  },
  "language_info": {
   "codemirror_mode": {
    "name": "ipython",
    "version": 3
   },
   "file_extension": ".py",
   "mimetype": "text/x-python",
   "name": "python",
   "nbconvert_exporter": "python",
   "pygments_lexer": "ipython3",
   "version": "3.6.2"
  }
 },
 "nbformat": 4,
 "nbformat_minor": 2
}
