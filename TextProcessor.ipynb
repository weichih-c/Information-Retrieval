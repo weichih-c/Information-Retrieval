{
 "cells": [
  {
   "cell_type": "code",
   "execution_count": 1,
   "metadata": {
    "collapsed": true
   },
   "outputs": [],
   "source": [
    "textFile = \"Data/content28.txt\"\n",
    "stopwordFile = \"stopword_list.txt\"\n",
    "outputPath = \"Output/\"\n",
    "outputFile = outputPath + \"result.txt\"\n",
    "\n",
    "\n",
    "import os\n",
    "if not os.path.isdir(outputPath): os.makedirs(outputPath)"
   ]
  },
  {
   "cell_type": "code",
   "execution_count": 2,
   "metadata": {
    "collapsed": true
   },
   "outputs": [],
   "source": [
    "# tokenize by whitespace\n",
    "def doTokenize(context):\n",
    "    result = list()\n",
    "    \n",
    "    context = context.replace('\\n', '') # remove newline character\n",
    "    context = context.replace(',', '') # remove comma\n",
    "    tokens = context.split(' ') # split by whitespace\n",
    "    tokens = [token.split('.')[0] for token in tokens] # remove dot of vocabluary (e.g., \"world.\")\n",
    "    \n",
    "    # check empty elements\n",
    "    for token in tokens:\n",
    "        if token:\n",
    "            result.append(token)\n",
    "            \n",
    "    return result"
   ]
  },
  {
   "cell_type": "code",
   "execution_count": 3,
   "metadata": {
    "collapsed": true
   },
   "outputs": [],
   "source": [
    "def doLowercase(token):\n",
    "    return token.lower()"
   ]
  },
  {
   "cell_type": "code",
   "execution_count": 4,
   "metadata": {},
   "outputs": [],
   "source": [
    "def isStopword(token, stopword_set):\n",
    "    return (token in stopword_set)"
   ]
  },
  {
   "cell_type": "code",
   "execution_count": 5,
   "metadata": {
    "collapsed": true
   },
   "outputs": [],
   "source": [
    "def doStemming(token):\n",
    "    return PorterStemmer().stem(token, 0, len(token)-1 )"
   ]
  },
  {
   "cell_type": "code",
   "execution_count": 6,
   "metadata": {
    "collapsed": true
   },
   "outputs": [],
   "source": [
    "# save the result as a txt file\n",
    "def saveResult(tokenSet, outputFileName):\n",
    "    \n",
    "    with open(outputFileName, \"w\") as opf:\n",
    "        for element in tokenSet:\n",
    "            opf.write(element+\"\\n\")\n",
    "        opf.close()"
   ]
  },
  {
   "cell_type": "code",
   "execution_count": 7,
   "metadata": {},
   "outputs": [
    {
     "name": "stdout",
     "output_type": "stream",
     "text": [
      "--Start Processing--\n",
      "--Finish Processing--\n"
     ]
    }
   ],
   "source": [
    "%run PorterStemmer.ipynb\n",
    "\n",
    "with open(textFile, \"r\") as f:\n",
    "    context = f.read()\n",
    "    f.close()\n",
    "with open(stopwordFile, \"r\") as f:\n",
    "    stopword_list = f.readlines()\n",
    "    f.close()\n",
    "\n",
    "stopword_set = {x.strip() for x in stopword_list} # ready the stopword list\n",
    "\n",
    "print(\"--Start Processing--\")\n",
    "tokens = doTokenize(context) # Doing Tokenization\n",
    "tokenSet = set()\n",
    "for token in tokens:\n",
    "    token = doLowercase(token)  # Doing lowercasing\n",
    "    \n",
    "    if not isStopword(token, stopword_set):  # stopword removing\n",
    "        \n",
    "        token = doStemming(token) # Doing stemming\n",
    "        \n",
    "        tokenSet.add(token)\n",
    "\n",
    "saveResult(tokenSet, outputFile)\n",
    "print(\"--Finish Processing--\")"
   ]
  }
 ],
 "metadata": {
  "kernelspec": {
   "display_name": "Python 3",
   "language": "python",
   "name": "python3"
  },
  "language_info": {
   "codemirror_mode": {
    "name": "ipython",
    "version": 3
   },
   "file_extension": ".py",
   "mimetype": "text/x-python",
   "name": "python",
   "nbconvert_exporter": "python",
   "pygments_lexer": "ipython3",
   "version": "3.6.2"
  }
 },
 "nbformat": 4,
 "nbformat_minor": 2
}
