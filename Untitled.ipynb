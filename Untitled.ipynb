{
 "cells": [
  {
   "cell_type": "markdown",
   "metadata": {},
   "source": [
    "1. 先抓每篇文章的terms\n",
    "2. 把每篇文章的terms frequency(TF)偷記下來後面用\n",
    "3. 把所有Terms存在一個大Dict\n",
    "4. 大Dict裡面要有index, term內容, document frequency(DF)\n",
    "5. 弄consine similarity"
   ]
  },
  {
   "cell_type": "code",
   "execution_count": null,
   "metadata": {},
   "outputs": [],
   "source": [
    "%run TextPRocessor.ipynb\n",
    "\n",
    "import os"
   ]
  },
  {
   "cell_type": "code",
   "execution_count": null,
   "metadata": {
    "collapsed": true
   },
   "outputs": [],
   "source": [
    "doc1 = \"IRTM/1.txt\"\n",
    "doc2 = \"IRTM/2.txt\"\n",
    "doc3 = \"IRTM/3.txt\"\n",
    "\n",
    "dataDir = \"Data/\"\n",
    "outputDir = \"Output/\"\n",
    "dicionary_OutputFileName = \"dictionary.txt\"\n",
    "\n",
    "if not os.path.isdir(outputDir): os.makedirs(outputDir)"
   ]
  },
  {
   "cell_type": "code",
   "execution_count": null,
   "metadata": {
    "collapsed": true
   },
   "outputs": [],
   "source": [
    "def listFiles(dir_path):\n",
    "    fList = []\n",
    "    for dirPath, dirName, fileNames in os.walk(dir_path):\n",
    "        fList.extend(fileNames)\n",
    "    return fList"
   ]
  },
  {
   "cell_type": "code",
   "execution_count": null,
   "metadata": {
    "collapsed": true
   },
   "outputs": [],
   "source": [
    "# save dictionary list to text file.\n",
    "def saveDictionary(dictionary_list):\n",
    "    \n",
    "    with open(outputDir+dicionary_OutputFileName, \"w\") as opf:\n",
    "        \n",
    "        for item in dictionary_list:\n",
    "            index = item[0]\n",
    "            term = item[1]\n",
    "            df = item[2]\n",
    "            # write to file\n",
    "            opf.write(str(index)+\",\"+term+\",\"+str(df))\n",
    "            opf.write(\"\\n\")\n",
    "            \n",
    "        opf.close()"
   ]
  },
  {
   "cell_type": "code",
   "execution_count": null,
   "metadata": {
    "collapsed": true
   },
   "outputs": [],
   "source": [
    "# sort the dictionary by term(ascending order)\n",
    "# add the index into tuple\n",
    "\n",
    "def sortDictionary(dictionary_Dict):\n",
    "    tempList = sorted(dictionary_Dict.items(), key = lambda x : x[0])\n",
    "    index = 0\n",
    "    outputList = list()\n",
    "    for item in tempList:\n",
    "        term = item[0]\n",
    "        df = item[1]\n",
    "        outputList.append((index, term, df))\n",
    "        index+=1\n",
    "        \n",
    "    return outputList"
   ]
  },
  {
   "cell_type": "code",
   "execution_count": null,
   "metadata": {},
   "outputs": [],
   "source": [
    "# terms = getTermsDict(doc2)\n",
    "# print(terms)\n",
    "\n",
    "dictionary = dict() # total term Dictionary\n",
    "tfPool = dict()\n",
    "\n",
    "fileList = listFiles(dataDir)\n",
    "for file in fileList:\n",
    "    fileName = file.split('.')[0] # get only number\n",
    "    terms = getTermsDict(dataDir + file)\n",
    "    tfPool[fileName] = terms # update TF pool\n",
    "    \n",
    "    for key, value in terms.items(): # update Document Frequency(i.e., DF)\n",
    "        if key in dictionary:\n",
    "            dictionary[key] += 1\n",
    "        else:\n",
    "            dictionary[key] = 1\n",
    "            \n",
    "            \n",
    "sortedDictionary = sortDictionary(dictionary) # sort and change to list.\n",
    "\n",
    "saveDictionary(sortedDictionary)"
   ]
  }
 ],
 "metadata": {
  "kernelspec": {
   "display_name": "Python 3",
   "language": "python",
   "name": "python3"
  },
  "language_info": {
   "codemirror_mode": {
    "name": "ipython",
    "version": 3
   },
   "file_extension": ".py",
   "mimetype": "text/x-python",
   "name": "python",
   "nbconvert_exporter": "python",
   "pygments_lexer": "ipython3",
   "version": "3.6.2"
  }
 },
 "nbformat": 4,
 "nbformat_minor": 2
}
