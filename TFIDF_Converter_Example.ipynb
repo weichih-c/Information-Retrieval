{
 "cells": [
  {
   "cell_type": "code",
   "execution_count": 1,
   "metadata": {
    "collapsed": true
   },
   "outputs": [],
   "source": [
    "%run TFIDF_Converter.ipynb"
   ]
  },
  {
   "cell_type": "code",
   "execution_count": 2,
   "metadata": {},
   "outputs": [
    {
     "name": "stdout",
     "output_type": "stream",
     "text": [
      "Start constructing...\n",
      "\n",
      "Generating dictionary done.\n"
     ]
    }
   ],
   "source": [
    "# Usage of Getting TF-IDF vectors\n",
    "\n",
    "# two input : data directory, output directory\n",
    "# should be end with '/'\n",
    "constructTFIDFVectors(\"IRTM/\", \"Output/IRTM-TFIDF/\") "
   ]
  },
  {
   "cell_type": "code",
   "execution_count": 3,
   "metadata": {},
   "outputs": [
    {
     "data": {
      "text/plain": [
       "0.16999622968417316"
      ]
     },
     "execution_count": 3,
     "metadata": {},
     "output_type": "execute_result"
    }
   ],
   "source": [
    "# Usage of consine similarity function\n",
    "\n",
    "docX = \"Output/IRTM-TFIDF/1.txt\"\n",
    "docY = \"Output/IRTM-TFIDF/2.txt\"\n",
    "\n",
    "# two input: two document tf-idf vectors\n",
    "cosine(docX, docY)"
   ]
  }
 ],
 "metadata": {
  "kernelspec": {
   "display_name": "Python 3",
   "language": "python",
   "name": "python3"
  },
  "language_info": {
   "codemirror_mode": {
    "name": "ipython",
    "version": 3
   },
   "file_extension": ".py",
   "mimetype": "text/x-python",
   "name": "python",
   "nbconvert_exporter": "python",
   "pygments_lexer": "ipython3",
   "version": "3.6.2"
  }
 },
 "nbformat": 4,
 "nbformat_minor": 2
}
