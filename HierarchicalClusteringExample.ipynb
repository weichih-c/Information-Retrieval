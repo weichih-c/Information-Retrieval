{
 "cells": [
  {
   "cell_type": "code",
   "execution_count": null,
   "metadata": {
    "collapsed": true
   },
   "outputs": [],
   "source": [
    "% run HierarchicalClustering.ipynb"
   ]
  },
  {
   "cell_type": "code",
   "execution_count": null,
   "metadata": {
    "collapsed": true
   },
   "outputs": [],
   "source": [
    "outputDir = \"Output/\"\n",
    "docSourceDir = \"IRTM/\"\n",
    "docVectorDir = \"Output/IRTM-TFIDF/\""
   ]
  },
  {
   "cell_type": "code",
   "execution_count": null,
   "metadata": {
    "collapsed": true
   },
   "outputs": [],
   "source": [
    "# constructTFIDFVectors(docSourceDir, docVectorDir) "
   ]
  },
  {
   "cell_type": "code",
   "execution_count": null,
   "metadata": {},
   "outputs": [],
   "source": [
    "corpusDict = initializeDocVectors(docVectorDir)\n",
    "\n",
    "import datetime\n",
    "\n",
    "clusterPool = hierachicalClustering(corpusDict, 8) # stop when residual 8 clusters\n",
    "print(\"Finish Clustering\", datetime.datetime.now())"
   ]
  },
  {
   "cell_type": "code",
   "execution_count": null,
   "metadata": {},
   "outputs": [],
   "source": [
    "wannaClustersResult = {20:0, 13:0, 8:0}\n",
    "for k, v in clusterPool.items():\n",
    "    if len(v) in wannaClustersResult.keys():\n",
    "        wannaClustersResult[len(v)] = k\n",
    "# print(wannaClustersResult)"
   ]
  },
  {
   "cell_type": "code",
   "execution_count": null,
   "metadata": {
    "collapsed": true
   },
   "outputs": [],
   "source": [
    "for wannaClusterNum, clusterIndex in wannaClustersResult.items():\n",
    "    with open(outputDir + str(wannaClusterNum) + '.txt', \"w\") as f:\n",
    "        for cIdx, cMembers in clusterPool[clusterIndex].items():\n",
    "            cmems =  sorted(list(cMembers))\n",
    "\n",
    "            for mem in cmems:\n",
    "                f.write(str(mem) + '\\n')\n",
    "\n",
    "            f.write('\\n')"
   ]
  }
 ],
 "metadata": {
  "kernelspec": {
   "display_name": "Python 3",
   "language": "python",
   "name": "python3"
  },
  "language_info": {
   "codemirror_mode": {
    "name": "ipython",
    "version": 3
   },
   "file_extension": ".py",
   "mimetype": "text/x-python",
   "name": "python",
   "nbconvert_exporter": "python",
   "pygments_lexer": "ipython3",
   "version": "3.6.2"
  }
 },
 "nbformat": 4,
 "nbformat_minor": 2
}
