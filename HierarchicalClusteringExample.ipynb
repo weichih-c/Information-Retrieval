{
 "cells": [
  {
   "cell_type": "code",
   "execution_count": null,
   "metadata": {
    "collapsed": true
   },
   "outputs": [],
   "source": [
    "% run HierarchicalClustering.ipynb"
   ]
  },
  {
   "cell_type": "code",
   "execution_count": null,
   "metadata": {
    "collapsed": true
   },
   "outputs": [],
   "source": [
    "outputDir = \"Output/\" # end with '/'\n",
    "docSourceDir = \"IRTM/\"\n",
    "docVectorDir = \"Output/IRTM-TFIDF/\"\n",
    "\n",
    "if not os.path.isdir(outputDir): os.makedirs(outputDir) # check outputDir exist.\n",
    "if not os.path.isdir(docVectorDir): os.makedirs(docVectorDir) # check outputDir exist."
   ]
  },
  {
   "cell_type": "code",
   "execution_count": null,
   "metadata": {
    "collapsed": true
   },
   "outputs": [],
   "source": [
    "# create tf-idf vector for each doc\n",
    "constructTFIDFVectors(docSourceDir, docVectorDir) "
   ]
  },
  {
   "cell_type": "code",
   "execution_count": null,
   "metadata": {
    "collapsed": true
   },
   "outputs": [],
   "source": [
    "corpusDict = initializeDocVectors(docVectorDir) # read doc vectors\n",
    "\n",
    "import datetime\n",
    "\n",
    "clusterPool = hierachicalClustering(corpusDict, 8) # stop when residual 8 clusters\n",
    "print(\"Finish Clustering\", datetime.datetime.now())"
   ]
  },
  {
   "cell_type": "code",
   "execution_count": null,
   "metadata": {
    "collapsed": true
   },
   "outputs": [],
   "source": [
    "wannaClustersResult = {20:0, 13:0, 8:0}\n",
    "for k, v in clusterPool.items():\n",
    "    if len(v) in wannaClustersResult.keys():\n",
    "        wannaClustersResult[len(v)] = k"
   ]
  },
  {
   "cell_type": "code",
   "execution_count": null,
   "metadata": {
    "collapsed": true
   },
   "outputs": [],
   "source": [
    "for wannaClusterNum, clusterIndex in wannaClustersResult.items():\n",
    "    \n",
    "    with open(outputDir + str(wannaClusterNum) + '.txt', \"w\") as f:\n",
    "        for cIdx, cMembers in clusterPool[clusterIndex].items():\n",
    "            cmems =  sorted(list(cMembers))\n",
    "\n",
    "            for mem in cmems:\n",
    "                f.write(str(mem) + '\\n')\n",
    "\n",
    "            f.write('\\n')"
   ]
  }
 ],
 "metadata": {
  "kernelspec": {
   "display_name": "Python 3",
   "language": "python",
   "name": "python3"
  },
  "language_info": {
   "codemirror_mode": {
    "name": "ipython",
    "version": 3
   },
   "file_extension": ".py",
   "mimetype": "text/x-python",
   "name": "python",
   "nbconvert_exporter": "python",
   "pygments_lexer": "ipython3",
   "version": "3.6.2"
  }
 },
 "nbformat": 4,
 "nbformat_minor": 2
}
